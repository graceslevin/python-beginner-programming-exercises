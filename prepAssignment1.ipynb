{
  "nbformat": 4,
  "nbformat_minor": 0,
  "metadata": {
    "colab": {
      "name": "prepAssignment1.ipynb",
      "provenance": [],
      "authorship_tag": "ABX9TyMXeVL1jqHOANk7gEV/4XXb",
      "include_colab_link": true
    },
    "kernelspec": {
      "name": "python3",
      "display_name": "Python 3"
    },
    "language_info": {
      "name": "python"
    }
  },
  "cells": [
    {
      "cell_type": "markdown",
      "metadata": {
        "id": "view-in-github",
        "colab_type": "text"
      },
      "source": [
        "<a href=\"https://colab.research.google.com/github/graceslevin/python-beginner-programming-exercises/blob/master/prepAssignment1.ipynb\" target=\"_parent\"><img src=\"https://colab.research.google.com/assets/colab-badge.svg\" alt=\"Open In Colab\"/></a>"
      ]
    },
    {
      "cell_type": "code",
      "execution_count": 14,
      "metadata": {
        "id": "05Qmtauoc_VW"
      },
      "outputs": [],
      "source": [
        "class Person:\n",
        "  def __init__(self, firstName, lastName, age):\n",
        "    self.firstName = fname\n",
        "    self.lastName = lname\n",
        "    self.age = age\n",
        "\n",
        "    def printname(self):\n",
        "      print(self.firstname, self.lastname, self.age)\n",
        "class HighSchoolStudent(Person): \n",
        "  def __init__(self, fname, lname, age, Gpa):\n",
        "    self.Gpa = [0,5]\n",
        "    self.age = age\n",
        "    if age > 19 or age < 13:\n",
        "      raise ValueError(\"error\")\n"
      ]
    }
  ]
}